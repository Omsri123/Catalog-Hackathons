{
  "nbformat": 4,
  "nbformat_minor": 0,
  "metadata": {
    "colab": {
      "provenance": []
    },
    "kernelspec": {
      "name": "python3",
      "display_name": "Python 3"
    },
    "language_info": {
      "name": "python"
    }
  },
  "cells": [
    {
      "cell_type": "code",
      "execution_count": 2,
      "metadata": {
        "colab": {
          "base_uri": "https://localhost:8080/"
        },
        "id": "yIy0BohQgZF-",
        "outputId": "bd47b71d-10c1-4a3c-acf5-fd565a8f371c"
      },
      "outputs": [
        {
          "output_type": "stream",
          "name": "stdout",
          "text": [
            "Wheat selected.\n",
            "Soil type mismatch.\n",
            "Wheat disease resistance: High\n"
          ]
        }
      ],
      "source": [
        "class Crop:\n",
        "    def __init__(self, name, soil_type, water_needs, disease_resistance):\n",
        "        self.name = name\n",
        "        self.soil_type = soil_type\n",
        "        self.water_needs = water_needs\n",
        "        self.disease_resistance = disease_resistance\n",
        "\n",
        "class Soil:\n",
        "    def __init__(self, soil_type, ph, fertility):\n",
        "        self.soil_type = soil_type\n",
        "        self.ph = ph\n",
        "        self.fertility = fertility\n",
        "\n",
        "class Farm:\n",
        "    def __init__(self, soil):\n",
        "        self.soil = soil\n",
        "        self.crops = []\n",
        "\n",
        "    def select_crop(self, crop):\n",
        "        if crop.soil_type == self.soil.soil_type:\n",
        "            self.crops.append(crop)\n",
        "            return f\"{crop.name} selected.\"\n",
        "        return \"Soil type mismatch.\"\n",
        "\n",
        "    def check_disease(self, crop):\n",
        "        return f\"{crop.name} disease resistance: {crop.disease_resistance}\"\n",
        "\n",
        "# Example Usage\n",
        "soil = Soil('Loam', 6.5, 'High')\n",
        "farm = Farm(soil)\n",
        "\n",
        "crop1 = Crop('Wheat', 'Loam', 'Moderate', 'High')\n",
        "crop2 = Crop('Rice', 'Clay', 'High', 'Moderate')\n",
        "\n",
        "print(farm.select_crop(crop1))  # Wheat selected.\n",
        "print(farm.select_crop(crop2))  # Soil type mismatch.\n",
        "print(farm.check_disease(crop1))  # Wheat disease resistance: High\n"
      ]
    }
  ]
}