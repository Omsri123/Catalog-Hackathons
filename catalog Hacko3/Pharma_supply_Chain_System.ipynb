{
  "nbformat": 4,
  "nbformat_minor": 0,
  "metadata": {
    "colab": {
      "provenance": []
    },
    "kernelspec": {
      "name": "python3",
      "display_name": "Python 3"
    },
    "language_info": {
      "name": "python"
    }
  },
  "cells": [
    {
      "cell_type": "code",
      "execution_count": 1,
      "metadata": {
        "colab": {
          "base_uri": "https://localhost:8080/"
        },
        "id": "MIvyECwU2G6I",
        "outputId": "a34eabac-bb72-4533-d2ab-f4190910e67c"
      },
      "outputs": [
        {
          "output_type": "stream",
          "name": "stdout",
          "text": [
            "{\n",
            "  \"id\": \"12345\",\n",
            "  \"name\": \"PainRelief\",\n",
            "  \"manufacturer\": \"PharmaCo\",\n",
            "  \"history\": [\n",
            "    {\n",
            "      \"location\": \"Warehouse A\",\n",
            "      \"timestamp\": \"2024-08-20T10:00:00Z\"\n",
            "    },\n",
            "    {\n",
            "      \"location\": \"Pharmacy B\",\n",
            "      \"timestamp\": \"2024-08-21T15:30:00Z\"\n",
            "    }\n",
            "  ],\n",
            "  \"hash\": \"3151df8178dfea68316ce554f891e13007e180afdfb58cb8f265dfc0a1e9c009\"\n",
            "}\n"
          ]
        }
      ],
      "source": [
        "import hashlib\n",
        "import json\n",
        "\n",
        "class Drug:\n",
        "    def __init__(self, id, name, manufacturer):\n",
        "        self.id = id\n",
        "        self.name = name\n",
        "        self.manufacturer = manufacturer\n",
        "        self.history = []\n",
        "\n",
        "    def add_entry(self, location, timestamp):\n",
        "        entry = {\n",
        "            \"location\": location,\n",
        "            \"timestamp\": timestamp\n",
        "        }\n",
        "        self.history.append(entry)\n",
        "\n",
        "    def generate_hash(self):\n",
        "        data = json.dumps(self.__dict__, sort_keys=True).encode()\n",
        "        return hashlib.sha256(data).hexdigest()\n",
        "\n",
        "    def get_info(self):\n",
        "        return {\n",
        "            \"id\": self.id,\n",
        "            \"name\": self.name,\n",
        "            \"manufacturer\": self.manufacturer,\n",
        "            \"history\": self.history,\n",
        "            \"hash\": self.generate_hash()\n",
        "        }\n",
        "\n",
        "# Example usage\n",
        "drug = Drug(id=\"12345\", name=\"PainRelief\", manufacturer=\"PharmaCo\")\n",
        "drug.add_entry(location=\"Warehouse A\", timestamp=\"2024-08-20T10:00:00Z\")\n",
        "drug.add_entry(location=\"Pharmacy B\", timestamp=\"2024-08-21T15:30:00Z\")\n",
        "\n",
        "print(json.dumps(drug.get_info(), indent=2))\n"
      ]
    }
  ]
}