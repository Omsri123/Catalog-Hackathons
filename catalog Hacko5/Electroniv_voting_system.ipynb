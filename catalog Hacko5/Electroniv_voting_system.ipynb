{
  "nbformat": 4,
  "nbformat_minor": 0,
  "metadata": {
    "colab": {
      "provenance": []
    },
    "kernelspec": {
      "name": "python3",
      "display_name": "Python 3"
    },
    "language_info": {
      "name": "python"
    }
  },
  "cells": [
    {
      "cell_type": "code",
      "execution_count": 1,
      "metadata": {
        "colab": {
          "base_uri": "https://localhost:8080/"
        },
        "id": "UnJ8Fnb2GY89",
        "outputId": "5be1206b-dd53-4a52-d2e1-98819202d600"
      },
      "outputs": [
        {
          "output_type": "stream",
          "name": "stdout",
          "text": [
            "Candidate 'Alice' added.\n",
            "Candidate 'Bob' added.\n",
            "Vote casted for 'Alice'.\n",
            "Vote casted for 'Bob'.\n",
            "You have already voted.\n",
            "\n",
            "Vote Tally:\n",
            "Alice: 1 votes\n",
            "Bob: 1 votes\n"
          ]
        }
      ],
      "source": [
        "class ElectronicVotingSystem:\n",
        "    def __init__(self):\n",
        "        self.candidates = {}\n",
        "        self.votes = {}\n",
        "\n",
        "    def add_candidate(self, name):\n",
        "        if name not in self.candidates:\n",
        "            self.candidates[name] = 0\n",
        "            print(f\"Candidate '{name}' added.\")\n",
        "        else:\n",
        "            print(f\"Candidate '{name}' already exists.\")\n",
        "\n",
        "    def cast_vote(self, voter_id, candidate_name):\n",
        "        if voter_id in self.votes:\n",
        "            print(\"You have already voted.\")\n",
        "            return\n",
        "\n",
        "        if candidate_name in self.candidates:\n",
        "            self.candidates[candidate_name] += 1\n",
        "            self.votes[voter_id] = candidate_name\n",
        "            print(f\"Vote casted for '{candidate_name}'.\")\n",
        "        else:\n",
        "            print(f\"Candidate '{candidate_name}' does not exist.\")\n",
        "\n",
        "    def tally_votes(self):\n",
        "        print(\"\\nVote Tally:\")\n",
        "        for candidate, vote_count in self.candidates.items():\n",
        "            print(f\"{candidate}: {vote_count} votes\")\n",
        "\n",
        "    def get_results(self):\n",
        "        return self.candidates\n",
        "\n",
        "# Example usage\n",
        "if __name__ == \"__main__\":\n",
        "    evs = ElectronicVotingSystem()\n",
        "\n",
        "    evs.add_candidate(\"Alice\")\n",
        "    evs.add_candidate(\"Bob\")\n",
        "\n",
        "    evs.cast_vote(\"voter1\", \"Alice\")\n",
        "    evs.cast_vote(\"voter2\", \"Bob\")\n",
        "    evs.cast_vote(\"voter1\", \"Bob\")  # Duplicate vote attempt\n",
        "\n",
        "    evs.tally_votes()\n"
      ]
    }
  ]
}