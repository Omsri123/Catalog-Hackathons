{
  "nbformat": 4,
  "nbformat_minor": 0,
  "metadata": {
    "colab": {
      "provenance": []
    },
    "kernelspec": {
      "name": "python3",
      "display_name": "Python 3"
    },
    "language_info": {
      "name": "python"
    }
  },
  "cells": [
    {
      "cell_type": "code",
      "execution_count": 1,
      "metadata": {
        "colab": {
          "base_uri": "https://localhost:8080/"
        },
        "id": "tiFjbmfBvPM_",
        "outputId": "4f62defe-abcb-4416-cc59-dbcb53fe0542"
      },
      "outputs": [
        {
          "output_type": "stream",
          "name": "stdout",
          "text": [
            "Vaccination scheduled: Polio on 2024-09-10 for John\n",
            "{'John': [{'vaccine': 'Polio', 'date': '2024-09-10'}]}\n",
            "Reminder set for John's Polio vaccination on 2024-09-09\n"
          ]
        }
      ],
      "source": [
        "class Child:\n",
        "    def __init__(self, name, dob):\n",
        "        self.name = name\n",
        "        self.dob = dob\n",
        "        self.vaccinations = []\n",
        "\n",
        "    def add_vaccination(self, vaccine_name, date):\n",
        "        self.vaccinations.append({\"vaccine\": vaccine_name, \"date\": date})\n",
        "\n",
        "    def view_vaccinations(self):\n",
        "        return self.vaccinations\n",
        "\n",
        "class Parent:\n",
        "    def __init__(self, name, email):\n",
        "        self.name = name\n",
        "        self.email = email\n",
        "        self.children = []\n",
        "\n",
        "    def add_child(self, child):\n",
        "        self.children.append(child)\n",
        "\n",
        "    def schedule_vaccination(self, child_name, vaccine_name, date):\n",
        "        for child in self.children:\n",
        "            if child.name == child_name:\n",
        "                child.add_vaccination(vaccine_name, date)\n",
        "                return f\"Vaccination scheduled: {vaccine_name} on {date} for {child_name}\"\n",
        "        return \"Child not found\"\n",
        "\n",
        "    def view_schedule(self):\n",
        "        schedule = {}\n",
        "        for child in self.children:\n",
        "            schedule[child.name] = child.view_vaccinations()\n",
        "        return schedule\n",
        "\n",
        "    def set_reminder(self, child_name, vaccine_name, reminder_date):\n",
        "        return f\"Reminder set for {child_name}'s {vaccine_name} vaccination on {reminder_date}\"\n",
        "\n",
        "# Example Usage\n",
        "parent = Parent(\"Alice\", \"alice@example.com\")\n",
        "child = Child(\"John\", \"2021-01-15\")\n",
        "parent.add_child(child)\n",
        "\n",
        "# Schedule a vaccination\n",
        "print(parent.schedule_vaccination(\"John\", \"Polio\", \"2024-09-10\"))\n",
        "\n",
        "# View the schedule\n",
        "print(parent.view_schedule())\n",
        "\n",
        "# Set a reminder\n",
        "print(parent.set_reminder(\"John\", \"Polio\", \"2024-09-09\"))\n"
      ]
    }
  ]
}